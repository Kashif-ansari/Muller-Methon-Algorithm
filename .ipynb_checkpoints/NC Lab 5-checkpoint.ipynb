{
 "cells": [
  {
   "cell_type": "code",
   "execution_count": 35,
   "metadata": {},
   "outputs": [
    {
     "name": "stdout",
     "output_type": "stream",
     "text": [
      "0 Xr  2.0524766262441676\n"
     ]
    }
   ],
   "source": [
    "import sympy as s\n",
    "import math as m\n",
    "\n",
    "def h1(x0,x2):\n",
    "    return x0-x2\n",
    "def h2(x1,x2):\n",
    "    return x1-x2\n",
    "def d1(x0,x2):\n",
    "    return f(x0)-f(x2)\n",
    "def d2(x1,x2):\n",
    "    return f(x1)-f(x2)\n",
    "def f(x):\n",
    "    return x**3-2*x**2-5\n",
    "def A(x0,x1,x2):\n",
    "    a = (h1(x0,x2)*d2(x1,x2))-(h2(x1,x2)*d1(x0,x2))\n",
    "    b =h1(x0,x2)*h2(x1,x2)*(x1-x0)\n",
    "    return a/b\n",
    "def B(x0,x1,x2):\n",
    "    a = ((h1(x0,x2))**2*d2(x1,x2))-((h2(x1,x2))**2*d1(x0,x2))\n",
    "    b = h1(x0,x2)*h2(x1,x2)*(x0-x1)\n",
    "    return a/b\n",
    "\n",
    "def Muller(x0,x1,x2):\n",
    "    for i in range(25):\n",
    "        if B(x0,x1,x2)<0:\n",
    "            Xr=x0-((2*f(x2))/(B(x0,x1,x2)-m.sqrt(B(x0,x1,x2)**2-(4*A(x0,x1,x2)*f(x1)))))\n",
    "        else:\n",
    "            Xr=x0-((2*f(x2))/(B(x0,x1,x2)+m.sqrt(B(x0,x1,x2)**2-(4*A(x0,x1,x2)*f(x1)))))\n",
    "        print(i,\"Xr \",Xr)\n",
    "        tol = f(Xr)\n",
    "        if tol < 0.01:\n",
    "            break\n",
    "        if Xr < x1:\n",
    "            x2=x1\n",
    "            x1 = Xr\n",
    "        else:\n",
    "            x0 = x1\n",
    "            x1 = Xr\n",
    "            \n",
    "\n",
    "Muller(0.9,1,1.9)\n",
    "\n"
   ]
  },
  {
   "cell_type": "code",
   "execution_count": 27,
   "metadata": {},
   "outputs": [
    {
     "name": "stdout",
     "output_type": "stream",
     "text": [
      "0 Xr  0.48841002888375096\n",
      "1 Xr  1.1998635849147987\n",
      "2 Xr  -0.9419871024465378\n",
      "3 Xr  -0.3139258719556375\n",
      "4 Xr  -1.7917978861136177\n"
     ]
    },
    {
     "ename": "ValueError",
     "evalue": "math domain error",
     "output_type": "error",
     "traceback": [
      "\u001b[1;31m---------------------------------------------------------------------------\u001b[0m",
      "\u001b[1;31mValueError\u001b[0m                                Traceback (most recent call last)",
      "\u001b[1;32m<ipython-input-27-79f5b41443ea>\u001b[0m in \u001b[0;36m<module>\u001b[1;34m\u001b[0m\n\u001b[0;32m     39\u001b[0m \u001b[1;33m\u001b[0m\u001b[0m\n\u001b[0;32m     40\u001b[0m \u001b[1;33m\u001b[0m\u001b[0m\n\u001b[1;32m---> 41\u001b[1;33m \u001b[0mMuller\u001b[0m\u001b[1;33m(\u001b[0m\u001b[1;36m2.5\u001b[0m\u001b[1;33m,\u001b[0m\u001b[1;36m3\u001b[0m\u001b[1;33m,\u001b[0m\u001b[1;36m3.5\u001b[0m\u001b[1;33m)\u001b[0m\u001b[1;33m\u001b[0m\u001b[1;33m\u001b[0m\u001b[0m\n\u001b[0m\u001b[0;32m     42\u001b[0m \u001b[1;33m\u001b[0m\u001b[0m\n",
      "\u001b[1;32m<ipython-input-27-79f5b41443ea>\u001b[0m in \u001b[0;36mMuller\u001b[1;34m(x0, x1, x2)\u001b[0m\n\u001b[0;32m     24\u001b[0m     \u001b[1;32mfor\u001b[0m \u001b[0mi\u001b[0m \u001b[1;32min\u001b[0m \u001b[0mrange\u001b[0m\u001b[1;33m(\u001b[0m\u001b[1;36m25\u001b[0m\u001b[1;33m)\u001b[0m\u001b[1;33m:\u001b[0m\u001b[1;33m\u001b[0m\u001b[1;33m\u001b[0m\u001b[0m\n\u001b[0;32m     25\u001b[0m         \u001b[1;32mif\u001b[0m \u001b[0mB\u001b[0m\u001b[1;33m(\u001b[0m\u001b[0mx0\u001b[0m\u001b[1;33m,\u001b[0m\u001b[0mx1\u001b[0m\u001b[1;33m,\u001b[0m\u001b[0mx2\u001b[0m\u001b[1;33m)\u001b[0m\u001b[1;33m<\u001b[0m\u001b[1;36m0\u001b[0m\u001b[1;33m:\u001b[0m\u001b[1;33m\u001b[0m\u001b[1;33m\u001b[0m\u001b[0m\n\u001b[1;32m---> 26\u001b[1;33m             \u001b[0mXr\u001b[0m\u001b[1;33m=\u001b[0m\u001b[0mx0\u001b[0m\u001b[1;33m-\u001b[0m\u001b[1;33m(\u001b[0m\u001b[1;33m(\u001b[0m\u001b[1;36m2\u001b[0m\u001b[1;33m*\u001b[0m\u001b[0mf\u001b[0m\u001b[1;33m(\u001b[0m\u001b[0mx2\u001b[0m\u001b[1;33m)\u001b[0m\u001b[1;33m)\u001b[0m\u001b[1;33m/\u001b[0m\u001b[1;33m(\u001b[0m\u001b[0mB\u001b[0m\u001b[1;33m(\u001b[0m\u001b[0mx0\u001b[0m\u001b[1;33m,\u001b[0m\u001b[0mx1\u001b[0m\u001b[1;33m,\u001b[0m\u001b[0mx2\u001b[0m\u001b[1;33m)\u001b[0m\u001b[1;33m-\u001b[0m\u001b[0mm\u001b[0m\u001b[1;33m.\u001b[0m\u001b[0msqrt\u001b[0m\u001b[1;33m(\u001b[0m\u001b[0mB\u001b[0m\u001b[1;33m(\u001b[0m\u001b[0mx0\u001b[0m\u001b[1;33m,\u001b[0m\u001b[0mx1\u001b[0m\u001b[1;33m,\u001b[0m\u001b[0mx2\u001b[0m\u001b[1;33m)\u001b[0m\u001b[1;33m**\u001b[0m\u001b[1;36m2\u001b[0m\u001b[1;33m-\u001b[0m\u001b[1;33m(\u001b[0m\u001b[1;36m4\u001b[0m\u001b[1;33m*\u001b[0m\u001b[0mA\u001b[0m\u001b[1;33m(\u001b[0m\u001b[0mx0\u001b[0m\u001b[1;33m,\u001b[0m\u001b[0mx1\u001b[0m\u001b[1;33m,\u001b[0m\u001b[0mx2\u001b[0m\u001b[1;33m)\u001b[0m\u001b[1;33m*\u001b[0m\u001b[0mf\u001b[0m\u001b[1;33m(\u001b[0m\u001b[0mx1\u001b[0m\u001b[1;33m)\u001b[0m\u001b[1;33m)\u001b[0m\u001b[1;33m)\u001b[0m\u001b[1;33m)\u001b[0m\u001b[1;33m)\u001b[0m\u001b[1;33m\u001b[0m\u001b[1;33m\u001b[0m\u001b[0m\n\u001b[0m\u001b[0;32m     27\u001b[0m         \u001b[1;32melse\u001b[0m\u001b[1;33m:\u001b[0m\u001b[1;33m\u001b[0m\u001b[1;33m\u001b[0m\u001b[0m\n\u001b[0;32m     28\u001b[0m             \u001b[0mXr\u001b[0m\u001b[1;33m=\u001b[0m\u001b[0mx0\u001b[0m\u001b[1;33m-\u001b[0m\u001b[1;33m(\u001b[0m\u001b[1;33m(\u001b[0m\u001b[1;36m2\u001b[0m\u001b[1;33m*\u001b[0m\u001b[0mf\u001b[0m\u001b[1;33m(\u001b[0m\u001b[0mx2\u001b[0m\u001b[1;33m)\u001b[0m\u001b[1;33m)\u001b[0m\u001b[1;33m/\u001b[0m\u001b[1;33m(\u001b[0m\u001b[0mB\u001b[0m\u001b[1;33m(\u001b[0m\u001b[0mx0\u001b[0m\u001b[1;33m,\u001b[0m\u001b[0mx1\u001b[0m\u001b[1;33m,\u001b[0m\u001b[0mx2\u001b[0m\u001b[1;33m)\u001b[0m\u001b[1;33m+\u001b[0m\u001b[0mm\u001b[0m\u001b[1;33m.\u001b[0m\u001b[0msqrt\u001b[0m\u001b[1;33m(\u001b[0m\u001b[0mB\u001b[0m\u001b[1;33m(\u001b[0m\u001b[0mx0\u001b[0m\u001b[1;33m,\u001b[0m\u001b[0mx1\u001b[0m\u001b[1;33m,\u001b[0m\u001b[0mx2\u001b[0m\u001b[1;33m)\u001b[0m\u001b[1;33m**\u001b[0m\u001b[1;36m2\u001b[0m\u001b[1;33m-\u001b[0m\u001b[1;33m(\u001b[0m\u001b[1;36m4\u001b[0m\u001b[1;33m*\u001b[0m\u001b[0mA\u001b[0m\u001b[1;33m(\u001b[0m\u001b[0mx0\u001b[0m\u001b[1;33m,\u001b[0m\u001b[0mx1\u001b[0m\u001b[1;33m,\u001b[0m\u001b[0mx2\u001b[0m\u001b[1;33m)\u001b[0m\u001b[1;33m*\u001b[0m\u001b[0mf\u001b[0m\u001b[1;33m(\u001b[0m\u001b[0mx1\u001b[0m\u001b[1;33m)\u001b[0m\u001b[1;33m)\u001b[0m\u001b[1;33m)\u001b[0m\u001b[1;33m)\u001b[0m\u001b[1;33m)\u001b[0m\u001b[1;33m\u001b[0m\u001b[1;33m\u001b[0m\u001b[0m\n",
      "\u001b[1;31mValueError\u001b[0m: math domain error"
     ]
    }
   ],
   "source": [
    "import sympy as s\n",
    "import math as m\n",
    "\n",
    "def h1(x0,x2):\n",
    "    return x0-x2\n",
    "def h2(x1,x2):\n",
    "    return x1-x2\n",
    "def d1(x0,x2):\n",
    "    return f(x0)-f(x2)\n",
    "def d2(x1,x2):\n",
    "    return f(x1)-f(x2)\n",
    "def f(x):\n",
    "    return x**3+(4.001*x**2)+1.101\n",
    "def A(x0,x1,x2):\n",
    "    a = (h1(x0,x2)*d2(x1,x2))-(h2(x1,x2)*d1(x0,x2))\n",
    "    b =h1(x0,x2)*h2(x1,x2)*(x1-x0)\n",
    "    return a/b\n",
    "def B(x0,x1,x2):\n",
    "    a = ((h1(x0,x2))**2*d2(x1,x2))-((h2(x1,x2))**2*d1(x0,x2))\n",
    "    b = h1(x0,x2)*h2(x1,x2)*(x0-x1)\n",
    "    return a/b\n",
    "\n",
    "def Muller(x0,x1,x2):\n",
    "    for i in range(25):\n",
    "        if B(x0,x1,x2)<0:\n",
    "            Xr=x0-((2*f(x2))/(B(x0,x1,x2)-m.sqrt(B(x0,x1,x2)**2-(4*A(x0,x1,x2)*f(x1)))))\n",
    "        else:\n",
    "            Xr=x0-((2*f(x2))/(B(x0,x1,x2)+m.sqrt(B(x0,x1,x2)**2-(4*A(x0,x1,x2)*f(x1)))))\n",
    "        print(i,\"Xr \",Xr)\n",
    "        tol = f(Xr)\n",
    "        if tol < 0.01:\n",
    "            break\n",
    "        if Xr < x1:\n",
    "            x2=x1\n",
    "            x1 = Xr\n",
    "        else:\n",
    "            x0 = x1\n",
    "            x1 = Xr\n",
    "            \n",
    "\n",
    "Muller(2.5,3,3.5)\n",
    "\n"
   ]
  },
  {
   "cell_type": "code",
   "execution_count": 30,
   "metadata": {},
   "outputs": [
    {
     "name": "stdout",
     "output_type": "stream",
     "text": [
      "0 Xr  1.5033164301044897\n",
      "1 Xr  2.208406776594141\n",
      "2 Xr  0.05860102076168139\n"
     ]
    }
   ],
   "source": [
    "import sympy as s\n",
    "import math as m\n",
    "\n",
    "def h1(x0,x2):\n",
    "    return x0-x2\n",
    "def h2(x1,x2):\n",
    "    return x1-x2\n",
    "def d1(x0,x2):\n",
    "    return f(x0)-f(x2)\n",
    "def d2(x1,x2):\n",
    "    return f(x1)-f(x2)\n",
    "def f(x):\n",
    "    return (10*x**3)-(8.3*x**2)+(2.295*x)-0.21141\n",
    "def A(x0,x1,x2):\n",
    "    a = (h1(x0,x2)*d2(x1,x2))-(h2(x1,x2)*d1(x0,x2))\n",
    "    b =h1(x0,x2)*h2(x1,x2)*(x1-x0)\n",
    "    return a/b\n",
    "def B(x0,x1,x2):\n",
    "    a = ((h1(x0,x2))**2*d2(x1,x2))-((h2(x1,x2))**2*d1(x0,x2))\n",
    "    b = h1(x0,x2)*h2(x1,x2)*(x0-x1)\n",
    "    return a/b\n",
    "\n",
    "def Muller(x0,x1,x2):\n",
    "    for i in range(25):\n",
    "        if B(x0,x1,x2)<0:\n",
    "            Xr=x0-((2*f(x2))/(B(x0,x1,x2)-m.sqrt(B(x0,x1,x2)**2-(4*A(x0,x1,x2)*f(x1)))))\n",
    "        else:\n",
    "            Xr=x0-((2*f(x2))/(B(x0,x1,x2)+m.sqrt(B(x0,x1,x2)**2-(4*A(x0,x1,x2)*f(x1)))))\n",
    "        print(i,\"Xr \",Xr)\n",
    "        tol = f(Xr)\n",
    "        if tol < 0.0001:\n",
    "            break\n",
    "        if Xr < x1:\n",
    "            x2=x1\n",
    "            x1 = Xr\n",
    "        else:\n",
    "            x0 = x1\n",
    "            x1 = Xr\n",
    "            \n",
    "\n",
    "Muller(3.5,4,4.5)\n",
    "\n"
   ]
  },
  {
   "cell_type": "code",
   "execution_count": null,
   "metadata": {},
   "outputs": [],
   "source": []
  }
 ],
 "metadata": {
  "kernelspec": {
   "display_name": "Python 3",
   "language": "python",
   "name": "python3"
  },
  "language_info": {
   "codemirror_mode": {
    "name": "ipython",
    "version": 3
   },
   "file_extension": ".py",
   "mimetype": "text/x-python",
   "name": "python",
   "nbconvert_exporter": "python",
   "pygments_lexer": "ipython3",
   "version": "3.8.8"
  }
 },
 "nbformat": 4,
 "nbformat_minor": 2
}
